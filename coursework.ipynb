{
  "nbformat": 4,
  "nbformat_minor": 0,
  "metadata": {
    "colab": {
      "provenance": [],
      "authorship_tag": "ABX9TyM44mfNPvZHAA4eUhq5yKRj",
      "include_colab_link": true
    },
    "kernelspec": {
      "name": "python3",
      "display_name": "Python 3"
    },
    "language_info": {
      "name": "python"
    }
  },
  "cells": [
    {
      "cell_type": "markdown",
      "metadata": {
        "id": "view-in-github",
        "colab_type": "text"
      },
      "source": [
        "<a href=\"https://colab.research.google.com/github/mark-ford123/applied_ml_cw_2025_mf/blob/main/coursework.ipynb\" target=\"_parent\"><img src=\"https://colab.research.google.com/assets/colab-badge.svg\" alt=\"Open In Colab\"/></a>"
      ]
    },
    {
      "cell_type": "code",
      "source": [
        "import tensorflow as tf\n",
        "from tensorflow import keras\n",
        "\n",
        "from tensorflow.keras import datasets, layers, models\n",
        "\n",
        "import matplotlib.pyplot as plt"
      ],
      "metadata": {
        "id": "7nB6ZxJVCXJo"
      },
      "execution_count": 3,
      "outputs": []
    },
    {
      "cell_type": "code",
      "execution_count": 1,
      "metadata": {
        "id": "8Th6ebsum-n7",
        "colab": {
          "base_uri": "https://localhost:8080/"
        },
        "outputId": "32bd25fa-6767-462c-c9fc-706bd667d25b"
      },
      "outputs": [
        {
          "output_type": "stream",
          "name": "stdout",
          "text": [
            "Dataset URL: https://www.kaggle.com/datasets/nolasthitnotomorrow/radioml2016-deepsigcom\n",
            "License(s): CC-BY-NC-SA-4.0\n",
            "Downloading radioml2016-deepsigcom.zip to /content\n",
            "100% 278M/279M [00:04<00:00, 59.9MB/s]\n",
            "100% 279M/279M [00:04<00:00, 66.3MB/s]\n",
            "Archive:  /content/radioml2016-deepsigcom.zip\n",
            "  inflating: /content/RML2016.10a_dict.pkl  \n"
          ]
        }
      ],
      "source": [
        "!kaggle datasets download -d nolasthitnotomorrow/radioml2016-deepsigcom\n",
        "!unzip \"/content/radioml2016-deepsigcom.zip\" -d \"/content/\""
      ]
    },
    {
      "cell_type": "code",
      "source": [
        "import pickle\n",
        "with open(\"RML2016.10a_dict.pkl\", \"rb\") as f:\n",
        "  Xd = pickle._Unpickler(f)\n",
        "  Xd.encoding = \"latin1\"\n",
        "  Xd = Xd.load()"
      ],
      "metadata": {
        "id": "vmPZgJe6pJAV"
      },
      "execution_count": 2,
      "outputs": []
    },
    {
      "cell_type": "code",
      "source": [],
      "metadata": {
        "id": "GiNbPdRfAz-a"
      },
      "execution_count": null,
      "outputs": []
    }
  ]
}