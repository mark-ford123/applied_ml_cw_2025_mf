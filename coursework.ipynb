{
  "nbformat": 4,
  "nbformat_minor": 0,
  "metadata": {
    "colab": {
      "provenance": [],
      "authorship_tag": "ABX9TyOXs5854dcU6uYud8nyLEZS",
      "include_colab_link": true
    },
    "kernelspec": {
      "name": "python3",
      "display_name": "Python 3"
    },
    "language_info": {
      "name": "python"
    }
  },
  "cells": [
    {
      "cell_type": "markdown",
      "metadata": {
        "id": "view-in-github",
        "colab_type": "text"
      },
      "source": [
        "<a href=\"https://colab.research.google.com/github/mark-ford123/applied_ml_cw_2025_mf/blob/main/coursework.ipynb\" target=\"_parent\"><img src=\"https://colab.research.google.com/assets/colab-badge.svg\" alt=\"Open In Colab\"/></a>"
      ]
    },
    {
      "cell_type": "code",
      "source": [
        "import tensorflow as tf\n",
        "from tensorflow import keras\n",
        "\n",
        "from tensorflow.keras import datasets, layers, models\n",
        "\n",
        "import matplotlib.pyplot as plt\n",
        "import numpy as np"
      ],
      "metadata": {
        "id": "7nB6ZxJVCXJo"
      },
      "execution_count": 1,
      "outputs": []
    },
    {
      "cell_type": "code",
      "execution_count": 2,
      "metadata": {
        "id": "8Th6ebsum-n7",
        "colab": {
          "base_uri": "https://localhost:8080/"
        },
        "outputId": "b665b192-00ea-4b2f-efa1-e4679c8a54a0"
      },
      "outputs": [
        {
          "output_type": "stream",
          "name": "stdout",
          "text": [
            "Dataset URL: https://www.kaggle.com/datasets/nolasthitnotomorrow/radioml2016-deepsigcom\n",
            "License(s): CC-BY-NC-SA-4.0\n",
            "Downloading radioml2016-deepsigcom.zip to /content\n",
            " 97% 270M/279M [00:03<00:00, 88.2MB/s]\n",
            "100% 279M/279M [00:03<00:00, 76.4MB/s]\n",
            "Archive:  /content/radioml2016-deepsigcom.zip\n",
            "  inflating: /content/RML2016.10a_dict.pkl  \n"
          ]
        }
      ],
      "source": [
        "!kaggle datasets download -d nolasthitnotomorrow/radioml2016-deepsigcom\n",
        "!unzip \"/content/radioml2016-deepsigcom.zip\" -d \"/content/\""
      ]
    },
    {
      "cell_type": "code",
      "source": [
        "import pickle\n",
        "with open(\"RML2016.10a_dict.pkl\", \"rb\") as f:\n",
        "  Xd = pickle._Unpickler(f)\n",
        "  Xd.encoding = \"latin1\"\n",
        "  Xd = Xd.load()"
      ],
      "metadata": {
        "id": "vmPZgJe6pJAV"
      },
      "execution_count": 3,
      "outputs": []
    },
    {
      "cell_type": "code",
      "source": [
        "from sklearn.model_selection import train_test_split\n",
        "from sklearn.preprocessing import LabelEncoder\n",
        "\n",
        "# Load the dataset (already unpickled)\n",
        "Xd_dict = Xd  # Assuming Xd is your unpickled dataset\n",
        "\n",
        "# Extract Modulations and SNRs\n",
        "modulations = sorted(set([key[0] for key in Xd_dict.keys()]))  # Unique modulation types\n",
        "snrs = sorted(set([key[1] for key in Xd_dict.keys()]))  # Unique SNR values\n",
        "\n",
        "X = []  # Features (IQ samples)\n",
        "y = []  # Labels (Modulation type)\n",
        "\n",
        "# Iterate through the dictionary and extract data\n",
        "for (mod_type, snr), samples in Xd_dict.items():\n",
        "    for sample in samples:\n",
        "        X.append(sample)  # Each sample is (2, 128)\n",
        "        y.append(mod_type)  # The label is the modulation type\n",
        "\n",
        "# Convert lists to NumPy arrays\n",
        "X = np.array(X)  # Shape: (num_samples, 2, 128)\n",
        "y = np.array(y)  # Shape: (num_samples,)\n",
        "\n",
        "# Convert modulation labels to numerical values\n",
        "label_encoder = LabelEncoder()\n",
        "y_encoded = label_encoder.fit_transform(y)  # Convert to integers\n",
        "\n",
        "# One-hot encode the labels for TensorFlow\n",
        "y_onehot = tf.keras.utils.to_categorical(y_encoded, num_classes=len(modulations))\n",
        "\n",
        "# Split the dataset into Training and Test sets\n",
        "X_train, X_test, y_train, y_test = train_test_split(X, y_onehot, test_size=0.2, random_state=42, stratify=y_onehot)\n",
        "\n",
        "# Print dataset shapes\n",
        "print(f\"X_train shape: {X_train.shape}\")  # (num_samples, 2, 128)\n",
        "print(f\"X_test shape: {X_test.shape}\")\n",
        "print(f\"y_train shape: {y_train.shape}\")  # (num_samples, num_classes)\n",
        "print(f\"y_test shape: {y_test.shape}\")\n"
      ],
      "metadata": {
        "id": "GiNbPdRfAz-a",
        "outputId": "ce2ccd62-bb21-4580-e59e-7c73b26666ca",
        "colab": {
          "base_uri": "https://localhost:8080/",
          "height": 211
        }
      },
      "execution_count": 4,
      "outputs": [
        {
          "output_type": "error",
          "ename": "NameError",
          "evalue": "name 'np' is not defined",
          "traceback": [
            "\u001b[0;31m---------------------------------------------------------------------------\u001b[0m",
            "\u001b[0;31mNameError\u001b[0m                                 Traceback (most recent call last)",
            "\u001b[0;32m<ipython-input-4-3b194f43f1d0>\u001b[0m in \u001b[0;36m<cell line: 0>\u001b[0;34m()\u001b[0m\n\u001b[1;32m     19\u001b[0m \u001b[0;34m\u001b[0m\u001b[0m\n\u001b[1;32m     20\u001b[0m \u001b[0;31m# Convert lists to NumPy arrays\u001b[0m\u001b[0;34m\u001b[0m\u001b[0;34m\u001b[0m\u001b[0m\n\u001b[0;32m---> 21\u001b[0;31m \u001b[0mX\u001b[0m \u001b[0;34m=\u001b[0m \u001b[0mnp\u001b[0m\u001b[0;34m.\u001b[0m\u001b[0marray\u001b[0m\u001b[0;34m(\u001b[0m\u001b[0mX\u001b[0m\u001b[0;34m)\u001b[0m  \u001b[0;31m# Shape: (num_samples, 2, 128)\u001b[0m\u001b[0;34m\u001b[0m\u001b[0;34m\u001b[0m\u001b[0m\n\u001b[0m\u001b[1;32m     22\u001b[0m \u001b[0my\u001b[0m \u001b[0;34m=\u001b[0m \u001b[0mnp\u001b[0m\u001b[0;34m.\u001b[0m\u001b[0marray\u001b[0m\u001b[0;34m(\u001b[0m\u001b[0my\u001b[0m\u001b[0;34m)\u001b[0m  \u001b[0;31m# Shape: (num_samples,)\u001b[0m\u001b[0;34m\u001b[0m\u001b[0;34m\u001b[0m\u001b[0m\n\u001b[1;32m     23\u001b[0m \u001b[0;34m\u001b[0m\u001b[0m\n",
            "\u001b[0;31mNameError\u001b[0m: name 'np' is not defined"
          ]
        }
      ]
    }
  ]
}