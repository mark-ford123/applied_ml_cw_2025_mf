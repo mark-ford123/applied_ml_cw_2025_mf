{
  "nbformat": 4,
  "nbformat_minor": 0,
  "metadata": {
    "colab": {
      "provenance": [],
      "authorship_tag": "ABX9TyOapFSXJE2Zl2swr8RIq+F+",
      "include_colab_link": true
    },
    "kernelspec": {
      "name": "python3",
      "display_name": "Python 3"
    },
    "language_info": {
      "name": "python"
    }
  },
  "cells": [
    {
      "cell_type": "markdown",
      "metadata": {
        "id": "view-in-github",
        "colab_type": "text"
      },
      "source": [
        "<a href=\"https://colab.research.google.com/github/mark-ford123/applied_ml_cw_2025_mf/blob/main/coursework.ipynb\" target=\"_parent\"><img src=\"https://colab.research.google.com/assets/colab-badge.svg\" alt=\"Open In Colab\"/></a>"
      ]
    },
    {
      "cell_type": "code",
      "execution_count": 1,
      "metadata": {
        "id": "8Th6ebsum-n7",
        "colab": {
          "base_uri": "https://localhost:8080/"
        },
        "outputId": "bebe1d7f-c52e-46d0-9cb7-f2554458cf84"
      },
      "outputs": [
        {
          "output_type": "stream",
          "name": "stdout",
          "text": [
            "Dataset URL: https://www.kaggle.com/datasets/nolasthitnotomorrow/radioml2016-deepsigcom\n",
            "License(s): CC-BY-NC-SA-4.0\n",
            "Downloading radioml2016-deepsigcom.zip to /content\n",
            " 99% 276M/279M [00:12<00:00, 27.7MB/s]\n",
            "100% 279M/279M [00:12<00:00, 23.3MB/s]\n",
            "Archive:  /content/radioml2016-deepsigcom.zip\n",
            "  inflating: /content/RML2016.10a_dict.pkl  \n"
          ]
        }
      ],
      "source": [
        "!kaggle datasets download -d nolasthitnotomorrow/radioml2016-deepsigcom\n",
        "!unzip \"/content/radioml2016-deepsigcom.zip\" -d \"/content/\""
      ]
    },
    {
      "cell_type": "code",
      "source": [
        "import pickle\n",
        "with open(\"RML2016.10a_dict.pkl\", \"rb\") as f:\n",
        "  Xd = pickle._Unpickler(f)\n",
        "  Xd.encoding = \"latin1\"\n",
        "  Xd = Xd.load()"
      ],
      "metadata": {
        "id": "vmPZgJe6pJAV"
      },
      "execution_count": 6,
      "outputs": []
    }
  ]
}