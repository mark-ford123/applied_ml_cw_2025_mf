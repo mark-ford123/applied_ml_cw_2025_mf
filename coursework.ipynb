{
  "nbformat": 4,
  "nbformat_minor": 0,
  "metadata": {
    "colab": {
      "provenance": [],
      "gpuType": "T4",
      "authorship_tag": "ABX9TyP5AWn7aeOjqiKBAM38YTia",
      "include_colab_link": true
    },
    "kernelspec": {
      "name": "python3",
      "display_name": "Python 3"
    },
    "language_info": {
      "name": "python"
    },
    "accelerator": "GPU"
  },
  "cells": [
    {
      "cell_type": "markdown",
      "metadata": {
        "id": "view-in-github",
        "colab_type": "text"
      },
      "source": [
        "<a href=\"https://colab.research.google.com/github/mark-ford123/applied_ml_cw_2025_mf/blob/main/coursework.ipynb\" target=\"_parent\"><img src=\"https://colab.research.google.com/assets/colab-badge.svg\" alt=\"Open In Colab\"/></a>"
      ]
    },
    {
      "cell_type": "code",
      "source": [
        "import tensorflow as tf\n",
        "from tensorflow import keras\n",
        "\n",
        "from keras import datasets, layers, models\n",
        "\n",
        "import matplotlib.pyplot as plt\n",
        "import numpy as np"
      ],
      "metadata": {
        "id": "7nB6ZxJVCXJo"
      },
      "execution_count": 1,
      "outputs": []
    },
    {
      "cell_type": "code",
      "execution_count": 2,
      "metadata": {
        "id": "8Th6ebsum-n7",
        "colab": {
          "base_uri": "https://localhost:8080/"
        },
        "outputId": "ae7feb09-43fb-473f-b04d-5cd9d42be788"
      },
      "outputs": [
        {
          "output_type": "stream",
          "name": "stdout",
          "text": [
            "Dataset URL: https://www.kaggle.com/datasets/nolasthitnotomorrow/radioml2016-deepsigcom\n",
            "License(s): CC-BY-NC-SA-4.0\n",
            "Downloading radioml2016-deepsigcom.zip to /content\n",
            " 99% 276M/279M [00:03<00:00, 88.2MB/s]\n",
            "100% 279M/279M [00:03<00:00, 85.5MB/s]\n",
            "Archive:  /content/radioml2016-deepsigcom.zip\n",
            "  inflating: /content/RML2016.10a_dict.pkl  \n"
          ]
        }
      ],
      "source": [
        "!kaggle datasets download -d nolasthitnotomorrow/radioml2016-deepsigcom\n",
        "!unzip \"/content/radioml2016-deepsigcom.zip\" -d \"/content/\""
      ]
    },
    {
      "cell_type": "code",
      "source": [
        "import pickle\n",
        "with open(\"RML2016.10a_dict.pkl\", \"rb\") as f:\n",
        "  Xd = pickle._Unpickler(f)\n",
        "  Xd.encoding = \"latin1\"\n",
        "  Xd = Xd.load()"
      ],
      "metadata": {
        "id": "vmPZgJe6pJAV"
      },
      "execution_count": 3,
      "outputs": []
    },
    {
      "cell_type": "code",
      "source": [
        "from sklearn.model_selection import train_test_split\n",
        "from sklearn.preprocessing import LabelEncoder\n",
        "\n",
        "# Load the dataset (already unpickled)\n",
        "Xd_dict = Xd  # Assuming Xd is your unpickled dataset\n",
        "\n",
        "# Extract Modulations and SNRs\n",
        "modulations = sorted(set([key[0] for key in Xd_dict.keys()]))  # Unique modulation types\n",
        "snrs = sorted(set([key[1] for key in Xd_dict.keys()]))  # Unique SNR values\n",
        "\n",
        "X = []  # Features (IQ samples)\n",
        "y = []  # Labels (Modulation type)\n",
        "\n",
        "# Iterate through the dictionary and extract data\n",
        "for (mod_type, snr), samples in Xd_dict.items():\n",
        "    for sample in samples:\n",
        "        X.append(sample)  # Each sample is (2, 128)\n",
        "        y.append(mod_type)  # The label is the modulation type\n",
        "\n",
        "# Convert lists to NumPy arrays\n",
        "X = np.array(X)  # Shape: (num_samples, 2, 128)\n",
        "y = np.array(y)  # Shape: (num_samples,)\n",
        "\n",
        "# Convert modulation labels to numerical values\n",
        "label_encoder = LabelEncoder()\n",
        "y_encoded = label_encoder.fit_transform(y)  # Convert to integers\n",
        "\n",
        "# One-hot encode the labels for TensorFlow\n",
        "y_onehot = tf.keras.utils.to_categorical(y_encoded, num_classes=len(modulations))\n",
        "\n",
        "# Split the dataset into Training and Test sets\n",
        "X_train, X_test, y_train, y_test = train_test_split(X, y_onehot, test_size=0.2, random_state=42, stratify=y_onehot)\n",
        "\n",
        "# Print dataset shapes\n",
        "print(f\"X_train shape: {X_train.shape}\")  # (num_samples, 2, 128)\n",
        "print(f\"X_test shape: {X_test.shape}\")\n",
        "print(f\"y_train shape: {y_train.shape}\")  # (num_samples, num_classes)\n",
        "print(f\"y_test shape: {y_test.shape}\")\n"
      ],
      "metadata": {
        "id": "GiNbPdRfAz-a",
        "outputId": "6db38e54-aacb-4049-ca0a-67b202503999",
        "colab": {
          "base_uri": "https://localhost:8080/"
        }
      },
      "execution_count": 4,
      "outputs": [
        {
          "output_type": "stream",
          "name": "stdout",
          "text": [
            "X_train shape: (176000, 2, 128)\n",
            "X_test shape: (44000, 2, 128)\n",
            "y_train shape: (176000, 11)\n",
            "y_test shape: (44000, 11)\n"
          ]
        }
      ]
    },
    {
      "cell_type": "markdown",
      "source": [
        "The data is split into two sections; data used to train the model, and data used to evaluate its prediction accuracy. The 80/20 split for training/testing is fairly standard within the industry. Increasing the amount of training data gives the model more data to learn from, but a generally less reliable evaluation. Whereas decreasing the amount of training data allows for better evaluations, but possibly poor generalizations, as it has not learnt as well. 80/20 strikes a good middle-ground."
      ],
      "metadata": {
        "id": "XqC69igKlSb7"
      }
    },
    {
      "cell_type": "code",
      "source": [
        "# Reshape for CNN (channels last format)\n",
        "X_train = X_train.reshape(-1, 128, 2, 1)  # Add a channel dimension\n",
        "X_test = X_test.reshape(-1, 128, 2, 1)\n",
        "\n",
        "print(f\"Reshaped X_train: {X_train.shape}\")  # (num_samples, 128, 2, 1)\n",
        "print(f\"Reshaped X_test: {X_test.shape}\")\n"
      ],
      "metadata": {
        "colab": {
          "base_uri": "https://localhost:8080/"
        },
        "id": "SzkrtWs4QEFA",
        "outputId": "21f2f5de-fb08-4452-f033-c17617dc3f2f"
      },
      "execution_count": 5,
      "outputs": [
        {
          "output_type": "stream",
          "name": "stdout",
          "text": [
            "Reshaped X_train: (176000, 128, 2, 1)\n",
            "Reshaped X_test: (44000, 128, 2, 1)\n"
          ]
        }
      ]
    },
    {
      "cell_type": "code",
      "source": [
        "from keras.models import Sequential\n",
        "from keras.layers import Conv2D, MaxPooling2D, Flatten, Dense, Dropout\n",
        "\n",
        "# Define CNN Model\n",
        "model = Sequential([\n",
        "    Conv2D(64, kernel_size=(3,3), activation='relu', input_shape=(128,2,1), padding=\"same\"),\n",
        "    MaxPooling2D(pool_size=(2,1)),\n",
        "\n",
        "    Conv2D(128, kernel_size=(3,3), activation='relu', padding=\"same\"),\n",
        "    MaxPooling2D(pool_size=(2,1)),\n",
        "\n",
        "    Flatten(),\n",
        "    Dense(256, activation='relu'),\n",
        "    Dropout(0.5),\n",
        "    Dense(len(modulations), activation='softmax')  # Output layer with modulation classes\n",
        "])\n",
        "\n",
        "# Compile Model\n",
        "model.compile(optimizer='adam', loss='categorical_crossentropy', metrics=['accuracy'])\n",
        "\n",
        "# Train Model\n",
        "history = model.fit(X_train, y_train, validation_data=(X_test, y_test), epochs=30, batch_size=32)\n"
      ],
      "metadata": {
        "colab": {
          "base_uri": "https://localhost:8080/",
          "height": 383
        },
        "id": "bSWv4uf8QLwF",
        "outputId": "a788b0d2-8c8d-4239-9216-94dbdf8e6d54"
      },
      "execution_count": 6,
      "outputs": [
        {
          "output_type": "error",
          "ename": "ModuleNotFoundError",
          "evalue": "No module named 'tf'",
          "traceback": [
            "\u001b[0;31m---------------------------------------------------------------------------\u001b[0m",
            "\u001b[0;31mModuleNotFoundError\u001b[0m                       Traceback (most recent call last)",
            "\u001b[0;32m<ipython-input-6-65a17e91d20d>\u001b[0m in \u001b[0;36m<cell line: 0>\u001b[0;34m()\u001b[0m\n\u001b[0;32m----> 1\u001b[0;31m \u001b[0;32mfrom\u001b[0m \u001b[0mtf\u001b[0m\u001b[0;34m.\u001b[0m\u001b[0mkeras\u001b[0m\u001b[0;34m.\u001b[0m\u001b[0mmodels\u001b[0m \u001b[0;32mimport\u001b[0m \u001b[0mSequential\u001b[0m\u001b[0;34m\u001b[0m\u001b[0;34m\u001b[0m\u001b[0m\n\u001b[0m\u001b[1;32m      2\u001b[0m \u001b[0;32mfrom\u001b[0m \u001b[0mtf\u001b[0m\u001b[0;34m.\u001b[0m\u001b[0mkeras\u001b[0m\u001b[0;34m.\u001b[0m\u001b[0mlayers\u001b[0m \u001b[0;32mimport\u001b[0m \u001b[0mConv2D\u001b[0m\u001b[0;34m,\u001b[0m \u001b[0mMaxPooling2D\u001b[0m\u001b[0;34m,\u001b[0m \u001b[0mFlatten\u001b[0m\u001b[0;34m,\u001b[0m \u001b[0mDense\u001b[0m\u001b[0;34m,\u001b[0m \u001b[0mDropout\u001b[0m\u001b[0;34m\u001b[0m\u001b[0;34m\u001b[0m\u001b[0m\n\u001b[1;32m      3\u001b[0m \u001b[0;34m\u001b[0m\u001b[0m\n\u001b[1;32m      4\u001b[0m \u001b[0;31m# Define CNN Model\u001b[0m\u001b[0;34m\u001b[0m\u001b[0;34m\u001b[0m\u001b[0m\n\u001b[1;32m      5\u001b[0m model = Sequential([\n",
            "\u001b[0;31mModuleNotFoundError\u001b[0m: No module named 'tf'",
            "",
            "\u001b[0;31m---------------------------------------------------------------------------\u001b[0;32m\nNOTE: If your import is failing due to a missing package, you can\nmanually install dependencies using either !pip or !apt.\n\nTo view examples of installing some common dependencies, click the\n\"Open Examples\" button below.\n\u001b[0;31m---------------------------------------------------------------------------\u001b[0m\n"
          ],
          "errorDetails": {
            "actions": [
              {
                "action": "open_url",
                "actionText": "Open Examples",
                "url": "/notebooks/snippets/importing_libraries.ipynb"
              }
            ]
          }
        }
      ]
    },
    {
      "cell_type": "markdown",
      "source": [
        "This has implemented a **Convolutional Neural Network**."
      ],
      "metadata": {
        "id": "y1eH_FMHxKKm"
      }
    },
    {
      "cell_type": "code",
      "source": [
        "test_loss, test_acc = model.evaluate(X_test, y_test)\n",
        "print(f\"Test Accuracy: {test_acc * 100:.2f}%\")\n"
      ],
      "metadata": {
        "id": "S7ctn9ISpHPy"
      },
      "execution_count": null,
      "outputs": []
    },
    {
      "cell_type": "code",
      "source": [
        "# Select a subset of the dataset for visualization\n",
        "def plot_constellation(X_data, y_data, modulations, num_samples=1000):\n",
        "    \"\"\"\n",
        "    Plots constellation diagrams for different modulation types.\n",
        "\n",
        "    X_data: IQ samples (shape: samples x 2 x 128)\n",
        "    y_data: Labels (one-hot encoded)\n",
        "    modulations: List of modulation names\n",
        "    num_samples: Number of points to plot per modulation type\n",
        "    \"\"\"\n",
        "\n",
        "    # Convert one-hot encoding to integer labels\n",
        "    labels = np.argmax(y_data, axis=1)\n",
        "\n",
        "    # Set up the plot\n",
        "    plt.figure(figsize=(15, 10))\n",
        "\n",
        "    for mod_idx, modulation in enumerate(modulations):\n",
        "        plt.subplot(4, 3, mod_idx + 1)  # Adjust grid based on modulation count\n",
        "\n",
        "        # Extract samples belonging to the current modulation type\n",
        "        iq_samples = X_data[labels == mod_idx][:num_samples]  # Select samples\n",
        "\n",
        "        # Reshape and take I/Q components\n",
        "        I = iq_samples[:, 0, :].flatten()  # In-phase component\n",
        "        Q = iq_samples[:, 1, :].flatten()  # Quadrature component\n",
        "\n",
        "        # Scatter plot\n",
        "        plt.scatter(I, Q, alpha=0.5, s=1)\n",
        "        plt.title(modulation)\n",
        "        plt.xlabel(\"In-phase (I)\")\n",
        "        plt.ylabel(\"Quadrature (Q)\")\n",
        "        plt.grid(True)\n",
        "\n",
        "    plt.tight_layout()\n",
        "    plt.show()\n",
        "\n",
        "# Call function to visualize\n",
        "plot_constellation(X_train, y_train, modulations)\n"
      ],
      "metadata": {
        "id": "5zYgtETxPTtS"
      },
      "execution_count": null,
      "outputs": []
    },
    {
      "cell_type": "code",
      "source": [
        "# Extract values from history\n",
        "epochs = range(len(history.history['loss']))\n",
        "train_loss = history.history['loss']\n",
        "val_loss = history.history['val_loss']\n",
        "train_acc = history.history['accuracy']\n",
        "val_acc = history.history['val_accuracy']\n",
        "\n",
        "# Plot Loss\n",
        "plt.figure(figsize=(12, 5))\n",
        "plt.subplot(1, 2, 1)\n",
        "plt.plot(epochs, train_loss, label=\"Training Loss\")\n",
        "plt.plot(epochs, val_loss, label=\"Validation Loss\")\n",
        "plt.xlabel(\"Epochs\")\n",
        "plt.ylabel(\"Loss\")\n",
        "plt.title(\"Loss over Epochs\")\n",
        "plt.legend()\n",
        "\n",
        "# Plot Accuracy\n",
        "plt.subplot(1, 2, 2)\n",
        "plt.plot(epochs, train_acc, label=\"Training Accuracy\")\n",
        "plt.plot(epochs, val_acc, label=\"Validation Accuracy\")\n",
        "plt.xlabel(\"Epochs\")\n",
        "plt.ylabel(\"Accuracy\")\n",
        "plt.title(\"Accuracy over Epochs\")\n",
        "plt.legend()\n",
        "\n",
        "plt.show()\n"
      ],
      "metadata": {
        "id": "efwy7F2jpgMF"
      },
      "execution_count": null,
      "outputs": []
    },
    {
      "cell_type": "code",
      "source": [
        "from sklearn.metrics import confusion_matrix\n",
        "import seaborn as sns\n",
        "\n",
        "# Get model predictions\n",
        "y_pred = model.predict(X_test)\n",
        "y_pred_classes = np.argmax(y_pred, axis=1)  # Convert one-hot to class index\n",
        "y_true_classes = np.argmax(y_test, axis=1)  # Convert one-hot to class index\n",
        "\n",
        "# Compute confusion matrix\n",
        "cm = confusion_matrix(y_true_classes, y_pred_classes)\n",
        "\n",
        "# Plot confusion matrix\n",
        "plt.figure(figsize=(10, 8))\n",
        "sns.heatmap(cm, annot=True, fmt=\"d\", cmap=\"Blues\", xticklabels=label_encoder.classes_, yticklabels=label_encoder.classes_)\n",
        "plt.xlabel(\"Predicted Label\")\n",
        "plt.ylabel(\"True Label\")\n",
        "plt.title(\"Confusion Matrix\")\n",
        "plt.show()"
      ],
      "metadata": {
        "id": "McU-do3ZqJ3m"
      },
      "execution_count": null,
      "outputs": []
    }
  ]
}